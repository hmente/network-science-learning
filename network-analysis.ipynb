{
 "cells": [
  {
   "cell_type": "code",
   "id": "initial_id",
   "metadata": {
    "collapsed": true
   },
   "source": [
    ""
   ],
   "outputs": [],
   "execution_count": null
  },
  {
   "metadata": {
    "ExecuteTime": {
     "end_time": "2024-10-29T14:39:41.176434Z",
     "start_time": "2024-10-29T14:39:41.162490Z"
    }
   },
   "cell_type": "code",
   "source": [
    "import numpy as np # linear algebra\n",
    "import pandas as pd \n",
    "import igraph as ig\n",
    "import networkx as nx\n",
    "import matplotlib.pyplot as plt\n",
    "\n",
    "\n",
    "edges = pd.read_csv('data/InputFileEdges.csv')\n",
    "\n",
    "print(edges.head())\n",
    "\n",
    "import numpy as np  # linear algebra\n",
    "import pandas as pd  # data processing, CSV file I/O (e.g. pd.read_csv)\n",
    "\n",
    "nodes = pd.read_csv('data/InputFileNodes.csv')\n",
    "\n",
    "print(nodes.head())"
   ],
   "id": "ad0cb02a1dac39c6",
   "outputs": [
    {
     "name": "stdout",
     "output_type": "stream",
     "text": [
      "  from   to  weight       type\n",
      "0  s01  s02      10  hyperlink\n",
      "1  s01  s02      12  hyperlink\n",
      "2  s01  s03      22  hyperlink\n",
      "3  s01  s04      21  hyperlink\n",
      "4  s04  s11      22    mention\n",
      "    id                media  media.type type.label  audience.size\n",
      "0  s01             NY Times           1  Newspaper             20\n",
      "1  s02      Washington Post           1  Newspaper             25\n",
      "2  s03  Wall Street Journal           1  Newspaper             30\n",
      "3  s04            USA Today           1  Newspaper             32\n",
      "4  s05             LA Times           1  Newspaper             20\n"
     ]
    }
   ],
   "execution_count": 50
  },
  {
   "metadata": {
    "ExecuteTime": {
     "end_time": "2024-10-29T14:39:41.729397Z",
     "start_time": "2024-10-29T14:39:41.727605Z"
    }
   },
   "cell_type": "code",
   "source": "",
   "id": "a936f112e71ec2a3",
   "outputs": [],
   "execution_count": null
  },
  {
   "metadata": {
    "ExecuteTime": {
     "end_time": "2024-10-29T14:39:42.447836Z",
     "start_time": "2024-10-29T14:39:42.433666Z"
    }
   },
   "cell_type": "code",
   "source": [
    "nodes_df = nodes.set_index(['id'])\n",
    "for column in nodes_df:\n",
    "    g.vs[column] = nodes_df.loc[g.vs['name'],column]\n",
    "\n",
    "nodes_df = nodes.set_index(['id'])\n",
    "nodes_df.head(3)\n"
   ],
   "id": "510c9d596d87e039",
   "outputs": [
    {
     "name": "stderr",
     "output_type": "stream",
     "text": [
      "/var/folders/tx/7mkl83h5303dsx8dlc3zdm4c0000gn/T/ipykernel_27513/1993149443.py:3: FutureWarning: Series.__getitem__ treating keys as positions is deprecated. In a future version, integer keys will always be treated as labels (consistent with DataFrame behavior). To access a value by position, use `ser.iloc[pos]`\n",
      "  g.vs[column] = nodes_df.loc[g.vs['name'],column]\n",
      "/var/folders/tx/7mkl83h5303dsx8dlc3zdm4c0000gn/T/ipykernel_27513/1993149443.py:3: FutureWarning: Series.__getitem__ treating keys as positions is deprecated. In a future version, integer keys will always be treated as labels (consistent with DataFrame behavior). To access a value by position, use `ser.iloc[pos]`\n",
      "  g.vs[column] = nodes_df.loc[g.vs['name'],column]\n",
      "/var/folders/tx/7mkl83h5303dsx8dlc3zdm4c0000gn/T/ipykernel_27513/1993149443.py:3: FutureWarning: Series.__getitem__ treating keys as positions is deprecated. In a future version, integer keys will always be treated as labels (consistent with DataFrame behavior). To access a value by position, use `ser.iloc[pos]`\n",
      "  g.vs[column] = nodes_df.loc[g.vs['name'],column]\n",
      "/var/folders/tx/7mkl83h5303dsx8dlc3zdm4c0000gn/T/ipykernel_27513/1993149443.py:3: FutureWarning: Series.__getitem__ treating keys as positions is deprecated. In a future version, integer keys will always be treated as labels (consistent with DataFrame behavior). To access a value by position, use `ser.iloc[pos]`\n",
      "  g.vs[column] = nodes_df.loc[g.vs['name'],column]\n"
     ]
    },
    {
     "data": {
      "text/plain": [
       "                   media  media.type type.label  audience.size\n",
       "id                                                            \n",
       "s01             NY Times           1  Newspaper             20\n",
       "s02      Washington Post           1  Newspaper             25\n",
       "s03  Wall Street Journal           1  Newspaper             30"
      ],
      "text/html": [
       "<div>\n",
       "<style scoped>\n",
       "    .dataframe tbody tr th:only-of-type {\n",
       "        vertical-align: middle;\n",
       "    }\n",
       "\n",
       "    .dataframe tbody tr th {\n",
       "        vertical-align: top;\n",
       "    }\n",
       "\n",
       "    .dataframe thead th {\n",
       "        text-align: right;\n",
       "    }\n",
       "</style>\n",
       "<table border=\"1\" class=\"dataframe\">\n",
       "  <thead>\n",
       "    <tr style=\"text-align: right;\">\n",
       "      <th></th>\n",
       "      <th>media</th>\n",
       "      <th>media.type</th>\n",
       "      <th>type.label</th>\n",
       "      <th>audience.size</th>\n",
       "    </tr>\n",
       "    <tr>\n",
       "      <th>id</th>\n",
       "      <th></th>\n",
       "      <th></th>\n",
       "      <th></th>\n",
       "      <th></th>\n",
       "    </tr>\n",
       "  </thead>\n",
       "  <tbody>\n",
       "    <tr>\n",
       "      <th>s01</th>\n",
       "      <td>NY Times</td>\n",
       "      <td>1</td>\n",
       "      <td>Newspaper</td>\n",
       "      <td>20</td>\n",
       "    </tr>\n",
       "    <tr>\n",
       "      <th>s02</th>\n",
       "      <td>Washington Post</td>\n",
       "      <td>1</td>\n",
       "      <td>Newspaper</td>\n",
       "      <td>25</td>\n",
       "    </tr>\n",
       "    <tr>\n",
       "      <th>s03</th>\n",
       "      <td>Wall Street Journal</td>\n",
       "      <td>1</td>\n",
       "      <td>Newspaper</td>\n",
       "      <td>30</td>\n",
       "    </tr>\n",
       "  </tbody>\n",
       "</table>\n",
       "</div>"
      ]
     },
     "execution_count": 51,
     "metadata": {},
     "output_type": "execute_result"
    }
   ],
   "execution_count": 51
  },
  {
   "metadata": {
    "ExecuteTime": {
     "end_time": "2024-10-29T14:39:43.082439Z",
     "start_time": "2024-10-29T14:39:43.076119Z"
    }
   },
   "cell_type": "code",
   "source": [
    "G = ig.Graph.DictList(\n",
    "          vertices=nodes.to_dict('records'),\n",
    "          edges=edges.to_dict('records'),\n",
    "          directed=True,\n",
    "          vertex_name_attr='id',\n",
    "          edge_foreign_keys=('from', 'to'));"
   ],
   "id": "a106340e6e6c2b51",
   "outputs": [],
   "execution_count": 52
  },
  {
   "metadata": {
    "ExecuteTime": {
     "end_time": "2024-10-29T14:54:39.353530Z",
     "start_time": "2024-10-29T14:54:39.336904Z"
    }
   },
   "cell_type": "code",
   "source": [
    "links = edges.groupby(['from', 'to', 'type'])['weight'].sum().reset_index()\n",
    "print(edges.shape,'\\n',links.shape)"
   ],
   "id": "127cf68d5e274247",
   "outputs": [
    {
     "name": "stdout",
     "output_type": "stream",
     "text": [
      "(51, 4) \n",
      " (48, 4)\n"
     ]
    }
   ],
   "execution_count": 56
  },
  {
   "metadata": {
    "ExecuteTime": {
     "end_time": "2024-10-29T14:40:01.793831Z",
     "start_time": "2024-10-29T14:40:01.751321Z"
    }
   },
   "cell_type": "code",
   "source": "",
   "id": "dec3b829749307ab",
   "outputs": [
    {
     "ename": "AttributeError",
     "evalue": "'Graph' object has no attribute 'has_multiple'",
     "output_type": "error",
     "traceback": [
      "\u001B[0;31m---------------------------------------------------------------------------\u001B[0m",
      "\u001B[0;31mAttributeError\u001B[0m                            Traceback (most recent call last)",
      "Cell \u001B[0;32mIn[55], line 3\u001B[0m\n\u001B[1;32m      1\u001B[0m \u001B[38;5;66;03m# Create a visualizetion of the graph with matplotlib and networkx\u001B[39;00m\n\u001B[0;32m----> 3\u001B[0m G \u001B[38;5;241m=\u001B[39m nx\u001B[38;5;241m.\u001B[39mGraph(\u001B[43mig\u001B[49m\u001B[38;5;241;43m.\u001B[39;49m\u001B[43mGraph\u001B[49m\u001B[38;5;241;43m.\u001B[39;49m\u001B[43mto_networkx\u001B[49m\u001B[43m(\u001B[49m\u001B[43mG\u001B[49m\u001B[43m)\u001B[49m)\n\u001B[1;32m      4\u001B[0m \u001B[38;5;66;03m# Draw the graph using networkx and matplotlib\u001B[39;00m\n\u001B[1;32m      5\u001B[0m pos \u001B[38;5;241m=\u001B[39m nx\u001B[38;5;241m.\u001B[39mspring_layout(G)  \u001B[38;5;66;03m# positions for all nodes\u001B[39;00m\n",
      "File \u001B[0;32m~/github-projects/network-science-learning/venv/lib/python3.9/site-packages/igraph/io/libraries.py:24\u001B[0m, in \u001B[0;36m_export_graph_to_networkx\u001B[0;34m(graph, create_using, vertex_attr_hashable)\u001B[0m\n\u001B[1;32m     22\u001B[0m \u001B[38;5;66;03m# Graph: decide on directness and mutliplicity\u001B[39;00m\n\u001B[1;32m     23\u001B[0m \u001B[38;5;28;01mif\u001B[39;00m create_using \u001B[38;5;129;01mis\u001B[39;00m \u001B[38;5;28;01mNone\u001B[39;00m:\n\u001B[0;32m---> 24\u001B[0m     \u001B[38;5;28;01mif\u001B[39;00m \u001B[43mgraph\u001B[49m\u001B[38;5;241;43m.\u001B[39;49m\u001B[43mhas_multiple\u001B[49m():\n\u001B[1;32m     25\u001B[0m         \u001B[38;5;28mcls\u001B[39m \u001B[38;5;241m=\u001B[39m nx\u001B[38;5;241m.\u001B[39mMultiDiGraph \u001B[38;5;28;01mif\u001B[39;00m graph\u001B[38;5;241m.\u001B[39mis_directed() \u001B[38;5;28;01melse\u001B[39;00m nx\u001B[38;5;241m.\u001B[39mMultiGraph\n\u001B[1;32m     26\u001B[0m     \u001B[38;5;28;01melse\u001B[39;00m:\n",
      "\u001B[0;31mAttributeError\u001B[0m: 'Graph' object has no attribute 'has_multiple'"
     ]
    }
   ],
   "execution_count": 55
  },
  {
   "metadata": {},
   "cell_type": "code",
   "source": "",
   "id": "ea5d58bd12872a77",
   "outputs": [],
   "execution_count": null
  }
 ],
 "metadata": {
  "kernelspec": {
   "display_name": "Python 3",
   "language": "python",
   "name": "python3"
  },
  "language_info": {
   "codemirror_mode": {
    "name": "ipython",
    "version": 2
   },
   "file_extension": ".py",
   "mimetype": "text/x-python",
   "name": "python",
   "nbconvert_exporter": "python",
   "pygments_lexer": "ipython2",
   "version": "2.7.6"
  }
 },
 "nbformat": 4,
 "nbformat_minor": 5
}
